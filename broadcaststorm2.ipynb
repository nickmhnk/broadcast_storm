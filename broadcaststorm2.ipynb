{
 "cells": [
  {
   "cell_type": "code",
   "execution_count": 35,
   "metadata": {},
   "outputs": [],
   "source": [
    "import logging\n",
    "\n",
    "import networkx as nx\n",
    "from matplotlib import pyplot as plt\n",
    "\n",
    "from broadcastStorm import Message, Node, Network\n",
    "\n",
    "from util import sutup_logger, mean"
   ]
  },
  {
   "cell_type": "code",
   "execution_count": 2,
   "metadata": {},
   "outputs": [],
   "source": [
    "logger = sutup_logger()"
   ]
  },
  {
   "cell_type": "markdown",
   "metadata": {},
   "source": [
    "### Second task\n",
    "2) розробити покращену модель за схемою \"broadcast\", яка не призводить до ефекту \"broadcast storm\";"
   ]
  },
  {
   "cell_type": "markdown",
   "metadata": {},
   "source": [
    "Lets create random graph with 4 nodes"
   ]
  },
  {
   "cell_type": "code",
   "execution_count": 24,
   "metadata": {},
   "outputs": [
    {
     "data": {
      "image/png": "[encoded data removed]",
      "text/plain": [
       "<Figure size 432x288 with 1 Axes>"
      ]
     },
     "metadata": {},
     "output_type": "display_data"
    }
   ],
   "source": [
    "g = nx.gnp_random_graph(5,0.5)\n",
    "pos = nx.spring_layout(g)\n",
    "#nx.draw(g)\n",
    "\n",
    "nx.draw_networkx_nodes(g, pos, node_color='b', node_size=1000)\n",
    "nx.draw_networkx_labels(g, pos, font_color='w', font_size=20)\n",
    "nx.draw_networkx_edges(g, pos)\n",
    "\n",
    "plt.show()"
   ]
  },
  {
   "cell_type": "markdown",
   "metadata": {},
   "source": [
    "Create a network with this graph\n",
    "\n",
    "The Network class is already implemented with utility data structures that allow to avoid broadcast storm\n",
    "\n",
    "To avoid broadcast storm we need to set equal to some big number, let it be infinity!"
   ]
  },
  {
   "cell_type": "code",
   "execution_count": 25,
   "metadata": {},
   "outputs": [],
   "source": [
    "network = Network(g, logger, keep_history=float('inf'))"
   ]
  },
  {
   "cell_type": "markdown",
   "metadata": {},
   "source": [
    "Lets send 2 messages using broadcast method of transferring\n",
    "\n",
    "    from node 1 to node 4 and \n",
    "\n",
    "    from node 4 to node 2"
   ]
  },
  {
   "cell_type": "code",
   "execution_count": 26,
   "metadata": {},
   "outputs": [],
   "source": [
    "msg1 = Message(0, ttl=1000, sender_id=4, dest_node_id=2)\n",
    "msg2 = Message(1, ttl=1000, sender_id=1, dest_node_id=4)\n",
    "\n",
    "network.add_message(msg1)\n",
    "network.add_message(msg2)"
   ]
  },
  {
   "cell_type": "markdown",
   "metadata": {},
   "source": [
    "We know that we are not going to overflow the network, so lets print system info after every step"
   ]
  },
  {
   "cell_type": "code",
   "execution_count": 27,
   "metadata": {},
   "outputs": [],
   "source": [
    "network.logger.setLevel(logging.INFO)"
   ]
  },
  {
   "cell_type": "markdown",
   "metadata": {},
   "source": [
    "Simulation:"
   ]
  },
  {
   "cell_type": "code",
   "execution_count": 28,
   "metadata": {
    "scrolled": false
   },
   "outputs": [
    {
     "name": "stdout",
     "output_type": "stream",
     "text": [
      "\n",
      "==================\n",
      "Step 0\n",
      "\n",
      "There are 2 msgs in the network\n",
      "\n",
      "\n",
      "previously node 0 received 0 messages\n",
      "\n",
      "Node 0 didn't broadcast anything\n",
      "\n",
      "There are 2 msgs in the network\n",
      "\n",
      "\n",
      "previously node 1 received 1 messages\n",
      "\n",
      "Node 1 is broadcasting msg with id 1 to node 3\n",
      "node 3 received message with id 1 and visited node counter 0\n",
      "\n",
      "Node 1 in total broadcasted 1 messages to 1 nodes\n",
      "\n",
      "There are 2 msgs in the network\n",
      "\n",
      "\n",
      "previously node 2 received 0 messages\n",
      "\n",
      "Node 2 didn't broadcast anything\n",
      "\n",
      "There are 2 msgs in the network\n",
      "\n",
      "\n",
      "previously node 3 received 1 messages\n",
      "\n",
      "Node 3 is broadcasting msg with id 1 to node 0\n",
      "node 0 received message with id 1 and visited node counter 1\n",
      "\n",
      "Node 3 is broadcasting msg with id 1 to node 1\n",
      "node 1 received message with id 1 and visited node counter 1\n",
      "\n",
      "Node 3 is broadcasting msg with id 1 to node 2\n",
      "node 2 received message with id 1 and visited node counter 1\n",
      "\n",
      "Node 3 in total broadcasted 1 messages to 3 nodes\n",
      "\n",
      "There are 4 msgs in the network\n",
      "\n",
      "\n",
      "previously node 4 received 1 messages\n",
      "\n",
      "Node 4 is broadcasting msg with id 0 to node 0\n",
      "node 0 received message with id 0 and visited node counter 0\n",
      "\n",
      "Node 4 in total broadcasted 1 messages to 1 nodes\n",
      "\n",
      "Number of messages in the system after 1 steps is 4\n",
      "\n",
      "==================\n",
      "Step 1\n",
      "\n",
      "There are 4 msgs in the network\n",
      "\n",
      "\n",
      "previously node 0 received 2 messages\n",
      "\n",
      "Node 0 is broadcasting msg with id 1 to node 2\n",
      "node 2 received message with id 1 and visited node counter 2\n",
      "skip it because seen it before\n",
      "\n",
      "Node 0 is broadcasting msg with id 1 to node 3\n",
      "node 3 received message with id 1 and visited node counter 2\n",
      "skip it because seen it before\n",
      "\n",
      "Node 0 is broadcasting msg with id 1 to node 4\n",
      "node 4 received message with id 1 and visited node counter 2\n",
      "!!!!!!!!!!!!!!!\n",
      "Node with id 4 received a message with id 1!\n",
      "It took 3 hops to get here\n",
      "\n",
      "Node 0 is broadcasting msg with id 0 to node 2\n",
      "node 2 received message with id 0 and visited node counter 1\n",
      "!!!!!!!!!!!!!!!\n",
      "Node with id 2 received a message with id 0!\n",
      "It took 2 hops to get here\n",
      "\n",
      "Node 0 is broadcasting msg with id 0 to node 3\n",
      "node 3 received message with id 0 and visited node counter 1\n",
      "\n",
      "Node 0 is broadcasting msg with id 0 to node 4\n",
      "node 4 received message with id 0 and visited node counter 1\n",
      "\n",
      "Node 0 in total broadcasted 2 messages to 3 nodes\n",
      "\n",
      "There are 4 msgs in the network\n",
      "\n",
      "\n",
      "previously node 1 received 1 messages\n",
      "\n",
      "Node 1 is broadcasting msg with id 1 to node 3\n",
      "node 3 received message with id 1 and visited node counter 2\n",
      "skip it because seen it before\n",
      "\n",
      "Node 1 in total broadcasted 1 messages to 1 nodes\n",
      "\n",
      "There are 3 msgs in the network\n",
      "\n",
      "\n",
      "previously node 2 received 1 messages\n",
      "\n",
      "Node 2 is broadcasting msg with id 1 to node 0\n",
      "node 0 received message with id 1 and visited node counter 2\n",
      "skip it because seen it before\n",
      "\n",
      "Node 2 is broadcasting msg with id 1 to node 3\n",
      "node 3 received message with id 1 and visited node counter 2\n",
      "skip it because seen it before\n",
      "\n",
      "Node 2 in total broadcasted 1 messages to 2 nodes\n",
      "\n",
      "There are 2 msgs in the network\n",
      "\n",
      "\n",
      "previously node 3 received 1 messages\n",
      "\n",
      "Node 3 is broadcasting msg with id 0 to node 0\n",
      "node 0 received message with id 0 and visited node counter 2\n",
      "skip it because seen it before\n",
      "\n",
      "Node 3 is broadcasting msg with id 0 to node 1\n",
      "node 1 received message with id 0 and visited node counter 2\n",
      "\n",
      "Node 3 is broadcasting msg with id 0 to node 2\n",
      "node 2 received message with id 0 and visited node counter 2\n",
      "skip it because seen it before\n",
      "\n",
      "Node 3 in total broadcasted 1 messages to 3 nodes\n",
      "\n",
      "There are 2 msgs in the network\n",
      "\n",
      "\n",
      "previously node 4 received 1 messages\n",
      "\n",
      "Node 4 is broadcasting msg with id 0 to node 0\n",
      "node 0 received message with id 0 and visited node counter 2\n",
      "skip it because seen it before\n",
      "\n",
      "Node 4 in total broadcasted 1 messages to 1 nodes\n",
      "\n",
      "Number of messages in the system after 2 steps is 2\n",
      "\n",
      "==================\n",
      "Step 2\n",
      "\n",
      "There are 1 msgs in the network\n",
      "\n",
      "\n",
      "previously node 0 received 0 messages\n",
      "\n",
      "Node 0 didn't broadcast anything\n",
      "\n",
      "There are 1 msgs in the network\n",
      "\n",
      "\n",
      "previously node 1 received 1 messages\n",
      "\n",
      "Node 1 is broadcasting msg with id 0 to node 3\n",
      "node 3 received message with id 0 and visited node counter 3\n",
      "skip it because seen it before\n",
      "\n",
      "Node 1 in total broadcasted 1 messages to 1 nodes\n",
      "\n",
      "There are 0 msgs in the network\n",
      "\n",
      "Number of messages in the system after 3 steps is 0\n"
     ]
    }
   ],
   "source": [
    "n_msgs = 2\n",
    "\n",
    "# lets store history of messages in the network\n",
    "n_msgs_history = [n_msgs]\n",
    "\n",
    "n_steps = 0\n",
    "\n",
    "# while there are messages in the network\n",
    "while n_msgs > 0:\n",
    "    print(\"\\n==================\\nStep {}\\n\".format(n_steps))\n",
    "    \n",
    "    n_msgs = network.simulate_one_step()\n",
    "    \n",
    "    n_msgs_history.append(n_msgs)\n",
    "    \n",
    "    n_steps += 1\n",
    "    print(\"Number of messages in the system after {} steps is {}\".format(n_steps, n_msgs))"
   ]
  },
  {
   "cell_type": "code",
   "execution_count": 29,
   "metadata": {},
   "outputs": [
    {
     "data": {
      "image/png": "[encoded data removed]",
      "text/plain": [
       "<Figure size 432x288 with 1 Axes>"
      ]
     },
     "metadata": {},
     "output_type": "display_data"
    }
   ],
   "source": [
    "plt.plot(n_msgs_history)\n",
    "plt.title(\"Number of messages in the system\")\n",
    "plt.xlabel(\"Step\")\n",
    "plt.ylabel(\"Number of messages\")\n",
    "plt.show()"
   ]
  },
  {
   "cell_type": "code",
   "execution_count": 32,
   "metadata": {},
   "outputs": [
    {
     "name": "stdout",
     "output_type": "stream",
     "text": [
      "On average it took 2.5 hops to deliver a message\n"
     ]
    }
   ],
   "source": [
    "print(\"On average it took {} hops to deliver a message\".format(mean(network.hop_time)))"
   ]
  },
  {
   "cell_type": "markdown",
   "metadata": {},
   "source": [
    "Which is true, because there are 3 nodes between 1 and 4 (including 4th node)\n",
    "and there are 2 nodes between 4 and 2 (including 2)\n",
    "\n",
    "$ {(3 + 2)\\over{2}} = 2.5$"
   ]
  },
  {
   "cell_type": "code",
   "execution_count": null,
   "metadata": {},
   "outputs": [],
   "source": []
  }
 ],
 "metadata": {
  "kernelspec": {
   "display_name": "Python 3",
   "language": "python",
   "name": "python3"
  },
  "language_info": {
   "codemirror_mode": {
    "name": "ipython",
    "version": 3
   },
   "file_extension": ".py",
   "mimetype": "text/x-python",
   "name": "python",
   "nbconvert_exporter": "python",
   "pygments_lexer": "ipython3",
   "version": "3.6.5"
  }
 },
 "nbformat": 4,
 "nbformat_minor": 2
}
